{
 "cells": [
  {
   "cell_type": "code",
   "execution_count": 5,
   "id": "4efb9344",
   "metadata": {},
   "outputs": [],
   "source": [
    "import pandas as pd\n",
    "import numpy\n",
    "import csv"
   ]
  },
  {
   "cell_type": "code",
   "execution_count": null,
   "id": "3980bc92",
   "metadata": {},
   "outputs": [],
   "source": []
  },
  {
   "cell_type": "code",
   "execution_count": null,
   "id": "394ccb43",
   "metadata": {},
   "outputs": [],
   "source": []
  },
  {
   "cell_type": "code",
   "execution_count": 165,
   "id": "64f87268",
   "metadata": {},
   "outputs": [],
   "source": [
    "data=pd.read_csv('sequence.tsv',sep='\\t')\n",
    "gff=pd.DataFrame(data)\n",
    "a=0\n",
    "for row in gff.iterrows():\n",
    "    #b=a+1\n",
    "    if gff.iloc[a,2]==\"gene\":\n",
    "        last_col=gf.iloc[a,8]\n",
    "        last_col=str(last_col)\n",
    "        index_geneID=last_col.index(\"CCNA\")\n",
    "        index_geneID_end=last_col.find(\";\")\n",
    "        gene_id=last_col[index_geneID:index_geneID_end]\n",
    "        gene_name_start=last_col.find(\"Name=\")\n",
    "        gene_name_stratig=last_col[gene_name_start:]\n",
    "        #print(gene_name_stratig)\n",
    "        gene_name_end=gene_name_stratig.index(\";\")\n",
    "        #print(gene_name_end)\n",
    "        gene_name=last_col[gene_name_start+5:gene_name_end+gene_name_start]\n",
    "        last_col_new=\"gene_id\\\"\"+gene_id+\"\\\";\"+\"gene_name\\\"\"+gene_name+\"\\\"\"\n",
    "        #print(last_col_new)\n",
    "        gff.loc[a,8]=last_col_new\n",
    "        \n",
    "    else:\n",
    "        gff.loc[a,8]=last_col_new\n",
    "    a=a+1\n",
    "        \n",
    "               \n",
    "    \n"
   ]
  },
  {
   "cell_type": "code",
   "execution_count": 166,
   "id": "b9b4debf",
   "metadata": {},
   "outputs": [],
   "source": [
    "gff.to_csv('gff_new.tsv', sep=\"\\t\")"
   ]
  },
  {
   "cell_type": "code",
   "execution_count": null,
   "id": "ea0ac874",
   "metadata": {},
   "outputs": [],
   "source": []
  }
 ],
 "metadata": {
  "kernelspec": {
   "display_name": "Python 3 (ipykernel)",
   "language": "python",
   "name": "python3"
  },
  "language_info": {
   "codemirror_mode": {
    "name": "ipython",
    "version": 3
   },
   "file_extension": ".py",
   "mimetype": "text/x-python",
   "name": "python",
   "nbconvert_exporter": "python",
   "pygments_lexer": "ipython3",
   "version": "3.9.13"
  }
 },
 "nbformat": 4,
 "nbformat_minor": 5
}
